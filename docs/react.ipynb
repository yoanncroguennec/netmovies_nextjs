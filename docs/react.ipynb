{
 "cells": [
  {
   "cell_type": "markdown",
   "metadata": {},
   "source": [
    "1. useState : La boîte magique pour garder des choses en mémoire\n",
    "Imagine que tu as une boîte où tu peux mettre un chiffre, un mot ou une image, et que cette boîte peut changer quand tu veux.\n",
    "💡 Exemple : Si tu fais un bouton qui compte combien de fois tu appuies dessus, useState garde ce nombre en mémoire et le met à jour à chaque clic."
   ]
  },
  {
   "cell_type": "code",
   "execution_count": null,
   "metadata": {
    "vscode": {
     "languageId": "javascript"
    }
   },
   "outputs": [],
   "source": [
    "import { useState } from \"react\";\n",
    "\n",
    "export default function Compteur() {\n",
    "  const [nombre, setNombre] = useState(0); // 0 est la valeur de départ\n",
    "\n",
    "  return (\n",
    "    <div>\n",
    "      <p>Tu as cliqué {nombre} fois</p>\n",
    "      <button onClick={() => setNombre(nombre + 1)}>Clique ici !</button>\n",
    "    </div>\n",
    "  );\n",
    "}"
   ]
  },
  {
   "cell_type": "markdown",
   "metadata": {},
   "source": [
    "2. useEffect : Le magicien qui surveille et réagit aux changements\n",
    "C'est comme une alarme qui sonne quand quelque chose change et qui exécute une action. Par exemple, si ton jeu doit afficher un message spécial après un certain temps, useEffect peut s'en occuper.\n",
    "\n",
    "💡 Exemple : On affiche un message dans la console chaque fois que le nombre change."
   ]
  },
  {
   "cell_type": "code",
   "execution_count": null,
   "metadata": {
    "vscode": {
     "languageId": "javascript"
    }
   },
   "outputs": [],
   "source": [
    "import { useState, useEffect } from \"react\";\n",
    "\n",
    "export default function Compteur() {\n",
    "  const [nombre, setNombre] = useState(0);\n",
    "\n",
    "  useEffect(() => {\n",
    "    console.log(\"Le nombre a changé :\", nombre);\n",
    "  }, [nombre]); // Ça réagit à chaque changement de `nombre`\n",
    "\n",
    "  return (\n",
    "    <div>\n",
    "      <p>Tu as cliqué {nombre} fois</p>\n",
    "      <button onClick={() => setNombre(nombre + 1)}>Clique ici !</button>\n",
    "    </div>\n",
    "  );\n",
    "}\n"
   ]
  },
  {
   "cell_type": "markdown",
   "metadata": {},
   "source": [
    "3. useContext : Le super sac à dos magique\n",
    "C'est comme un sac à dos qui contient des informations et que tout le monde peut utiliser sans devoir demander à chaque fois. Si plusieurs parties de ton jeu ont besoin du même thème (clair ou sombre), useContext permet de partager cette information facilement."
   ]
  },
  {
   "cell_type": "markdown",
   "metadata": {},
   "source": [
    "4. useRef : Le miroir magique\n",
    "C'est un peu comme un miroir qui regarde un élément de ta page sans le toucher. Par exemple, si tu veux que le curseur aille directement dans une boîte de texte quand la page s’ouvre, useRef peut t’aider.\n",
    "\n",
    "💡 Exemple : Automatiquement placer le curseur dans un champ texte au chargement de la page."
   ]
  },
  {
   "cell_type": "code",
   "execution_count": null,
   "metadata": {
    "vscode": {
     "languageId": "javascript"
    }
   },
   "outputs": [],
   "source": [
    "import { useRef, useEffect } from \"react\";\n",
    "\n",
    "export default function FocusInput() {\n",
    "  const inputRef = useRef(null);\n",
    "\n",
    "  useEffect(() => {\n",
    "    inputRef.current.focus(); // Place automatiquement le curseur dans la boîte\n",
    "  }, []);\n",
    "\n",
    "  return <input ref={inputRef} placeholder='Écris ici...' />;\n",
    "}\n"
   ]
  },
  {
   "cell_type": "markdown",
   "metadata": {},
   "source": [
    "useMemo : La mémoire magique 🧠✨\n",
    "\n",
    "Imagine que tu fais un calcul très compliqué, comme compter tous les grains de sable sur une plage. Si tu dois refaire ce calcul à chaque fois, ça prend beaucoup de temps. Mais si tu notes le résultat dans un carnet, la prochaine fois que quelqu'un te demande, tu n'as plus besoin de recompter, tu regardes juste dans ton carnet !\n",
    "\n",
    "useMemo, c'est pareil. Il retient un calcul pour ne pas le refaire inutilement.\n",
    "\n",
    "📌 Exemple simple :\n",
    "Tu as une liste de nombres et tu veux calculer la somme. Sans useMemo, React pourrait recalculer la somme même si la liste ne change pas. Avec useMemo, il ne la recalculera que si la liste change vraiment."
   ]
  },
  {
   "cell_type": "code",
   "execution_count": null,
   "metadata": {
    "vscode": {
     "languageId": "javascript"
    }
   },
   "outputs": [],
   "source": [
    "import { useState, useMemo } from \"react\";\n",
    "\n",
    "function Somme() {\n",
    "  const [nombre, setNombre] = useState(0);\n",
    "  const nombres = [1, 2, 3, 4, 5]; // Liste de nombres\n",
    "\n",
    "  const somme = useMemo(() => {\n",
    "    console.log(\"Calcul de la somme...\");\n",
    "    return nombres.reduce((total, n) => total + n, 0);\n",
    "  }, [nombres]); // On ne recalcule la somme que si `nombres` change\n",
    "\n",
    "  return (\n",
    "    <div>\n",
    "      <p>La somme des nombres est : {somme}</p>\n",
    "      <button onClick={() => setNombre(nombre + 1)}>Clique ({nombre})</button>\n",
    "    </div>\n",
    "  );\n",
    "}\n"
   ]
  },
  {
   "cell_type": "markdown",
   "metadata": {},
   "source": [
    "💡 Sans useMemo, la somme serait recalculée à chaque clic, même si elle ne change pas.\n",
    "💡 Avec useMemo, React garde la somme en mémoire et ne la recalcule que si c'est nécessaire.\n",
    "\n",
    "C'est comme si tu gardais un résultat dans un carnet au lieu de tout refaire à chaque fois ! 📖🔢"
   ]
  },
  {
   "cell_type": "markdown",
   "metadata": {},
   "source": [
    "C'est quoi useRef ?\n",
    "Tu peux imaginer useRef comme un petit carnet où tu peux noter une information sans que ça change l’affichage de ton site. Il te permet aussi d’interagir directement avec des éléments de la page sans les modifier dans useState."
   ]
  },
  {
   "cell_type": "markdown",
   "metadata": {},
   "source": [
    "1️⃣ Exemple : Mettre automatiquement le curseur dans une boîte de texte 📝\n",
    "Imagine que tu ouvres un site et que, pouf ! le curseur est déjà prêt pour écrire. Pas besoin de cliquer !"
   ]
  },
  {
   "cell_type": "code",
   "execution_count": null,
   "metadata": {
    "vscode": {
     "languageId": "javascript"
    }
   },
   "outputs": [],
   "source": [
    "import { useRef, useEffect } from \"react\";\n",
    "\n",
    "function FocusInput() {\n",
    "  const inputRef = useRef(null); // Crée une \"référence\" pour l'input\n",
    "\n",
    "  useEffect(() => {\n",
    "    inputRef.current.focus(); // Dès que la page s'affiche, on place le curseur\n",
    "  }, []);\n",
    "\n",
    "  return <input ref={inputRef} placeholder='Écris ici...' />;\n",
    "}\n"
   ]
  },
  {
   "cell_type": "markdown",
   "metadata": {},
   "source": [
    "🧐 Explication :\n",
    "\n",
    "useRef crée une référence vers l'input.\n",
    "inputRef.current.focus() met le curseur dedans dès que la page s’affiche.\n"
   ]
  },
  {
   "cell_type": "markdown",
   "metadata": {},
   "source": [
    "2️⃣ Exemple : Compter combien de fois on a cliqué sans recharger la page 🔢\n",
    "Avec useState, chaque mise à jour redessine la page. Mais avec useRef, on peut stocker un nombre sans provoquer de mise à jour !"
   ]
  },
  {
   "cell_type": "code",
   "execution_count": null,
   "metadata": {
    "vscode": {
     "languageId": "javascript"
    }
   },
   "outputs": [],
   "source": [
    "import { useRef, useState } from \"react\";\n",
    "\n",
    "function Compteur() {\n",
    "  const countRef = useRef(0); // Stocke un nombre qui ne redéclenche PAS de rendu\n",
    "  const [state, setState] = useState(0); // Pour afficher un état\n",
    "\n",
    "  function incrementer() {\n",
    "    countRef.current += 1; // On change la valeur du useRef\n",
    "    console.log(\"Nombre de clics :\", countRef.current);\n",
    "  }\n",
    "\n",
    "  return (\n",
    "    <div>\n",
    "      <p>Clics visibles : {state}</p>\n",
    "      <button onClick={incrementer}>Incrémenter (invisible)</button>\n",
    "      <button onClick={() => setState(state + 1)}>Rafraîchir affichage</button>\n",
    "    </div>\n",
    "  );\n",
    "}\n"
   ]
  },
  {
   "cell_type": "markdown",
   "metadata": {},
   "source": [
    "🧐 Explication :\n",
    "\n",
    "countRef.current garde un nombre en mémoire sans déclencher de mise à jour.\n",
    "Seul useState met à jour l’affichage.\n",
    "➡️ useRef est utile pour stocker des infos sans redessiner la page !"
   ]
  },
  {
   "cell_type": "markdown",
   "metadata": {},
   "source": [
    "3️⃣ Exemple : Trouver la hauteur d’un élément 📏\n",
    "Tu veux connaître la taille d’une boîte dès que la page s’affiche ?"
   ]
  },
  {
   "cell_type": "code",
   "execution_count": null,
   "metadata": {
    "vscode": {
     "languageId": "javascript"
    }
   },
   "outputs": [],
   "source": [
    "import { useRef, useEffect, useState } from \"react\";\n",
    "\n",
    "function BoxSize() {\n",
    "  const boxRef = useRef(null);\n",
    "  const [height, setHeight] = useState(0);\n",
    "\n",
    "  useEffect(() => {\n",
    "    if (boxRef.current) {\n",
    "      setHeight(boxRef.current.offsetHeight); // Récupère la hauteur de la boîte\n",
    "    }\n",
    "  }, []);\n",
    "\n",
    "  return (\n",
    "    <div>\n",
    "      <div ref={boxRef} style={{ height: \"100px\", background: \"lightblue\" }}>\n",
    "        Je suis une boîte !\n",
    "      </div>\n",
    "      <p>Ma hauteur est de {height}px</p>\n",
    "    </div>\n",
    "  );\n",
    "}\n"
   ]
  },
  {
   "cell_type": "markdown",
   "metadata": {},
   "source": [
    "🧐 Explication :\n",
    "\n",
    "boxRef.current.offsetHeight récupère la hauteur de la boîte dès que la page se charge."
   ]
  },
  {
   "cell_type": "markdown",
   "metadata": {},
   "source": [
    "Quand utiliser useRef ?\n",
    "✅ Quand tu veux interagir avec un élément HTML (input, bouton, div...)\n",
    "✅ Quand tu veux stocker une valeur qui ne doit pas provoquer de mise à jour\n",
    "✅ Quand tu veux garder une information entre les rendus sans l'afficher à l'écran\n",
    "\n",
    "Dis-moi si un exemple te parle plus ou si tu veux encore plus simple ! 😊"
   ]
  },
  {
   "cell_type": "markdown",
   "metadata": {},
   "source": [
    "C'est quoi useRef ?\n",
    "Imagine que useState est un tableau blanc et que useRef est un post-it.\n",
    "\n",
    "useState : Si tu écris un nombre sur le tableau blanc et que tu le changes, tout le monde le voit. (Ça met à jour l'affichage.)\n",
    "useRef : Si tu écris un nombre sur un post-it collé sous la table, il est toujours là, mais personne ne le voit sauf toi. (Ça ne met pas à jour l'affichage.)\n"
   ]
  },
  {
   "cell_type": "markdown",
   "metadata": {},
   "source": [
    "1️⃣ Exemple : Mettre le curseur dans une boîte de texte automatiquement\n",
    "Imagine que tu ouvres un site et que pouf ! le curseur est déjà prêt dans la boîte de texte, sans que tu aies besoin de cliquer."
   ]
  },
  {
   "cell_type": "code",
   "execution_count": null,
   "metadata": {
    "vscode": {
     "languageId": "javascript"
    }
   },
   "outputs": [],
   "source": [
    "import { useRef, useEffect } from \"react\";\n",
    "\n",
    "function AutoFocus() {\n",
    "  const inputRef = useRef(null); // Création du \"post-it\"\n",
    "\n",
    "  useEffect(() => {\n",
    "    inputRef.current.focus(); // Dit à l’ordi de mettre le curseur ici\n",
    "  }, []);\n",
    "\n",
    "  return <input ref={inputRef} placeholder='Écris ici...' />;\n",
    "}\n"
   ]
  },
  {
   "cell_type": "markdown",
   "metadata": {},
   "source": [
    "🎯 Ce que fait useRef ici : Il se souvient de la boîte de texte et demande à React de mettre le curseur dedans dès que la page s'affiche."
   ]
  },
  {
   "cell_type": "markdown",
   "metadata": {},
   "source": [
    "2️⃣ Exemple : Compter sans que ça change l'écran\n",
    "Imagine que tu comptes combien de fois tu cliques sur un bouton, mais tu ne veux pas que la page se redessine à chaque fois."
   ]
  },
  {
   "cell_type": "code",
   "execution_count": null,
   "metadata": {
    "vscode": {
     "languageId": "javascript"
    }
   },
   "outputs": [],
   "source": [
    "import { useRef } from \"react\";\n",
    "\n",
    "function CompteurInvisible() {\n",
    "  const countRef = useRef(0); // Création du \"post-it\"\n",
    "\n",
    "  function incrementer() {\n",
    "    countRef.current += 1; // Change la valeur du post-it\n",
    "    console.log(\"Nombre de clics :\", countRef.current);\n",
    "  }\n",
    "\n",
    "  return <button onClick={incrementer}>Clique-moi !</button>;\n",
    "}\n"
   ]
  },
  {
   "cell_type": "markdown",
   "metadata": {},
   "source": [
    "🎯 Ce que fait useRef ici : Il garde le nombre de clics en mémoire, mais l'affichage ne change pas (pas besoin de redessiner la page).\n"
   ]
  },
  {
   "cell_type": "markdown",
   "metadata": {},
   "source": [
    "3️⃣ Exemple : Mesurer une boîte\n",
    "Imagine que tu veux savoir la taille d'une boîte sans la modifier."
   ]
  },
  {
   "cell_type": "code",
   "execution_count": null,
   "metadata": {
    "vscode": {
     "languageId": "javascript"
    }
   },
   "outputs": [],
   "source": [
    "import { useRef, useEffect, useState } from \"react\";\n",
    "\n",
    "function Boite() {\n",
    "  const boxRef = useRef(null); // Création du \"post-it\"\n",
    "  const [taille, setTaille] = useState(0);\n",
    "\n",
    "  useEffect(() => {\n",
    "    setTaille(boxRef.current.offsetHeight); // Mesure la boîte\n",
    "  }, []);\n",
    "\n",
    "  return (\n",
    "    <div>\n",
    "      <div ref={boxRef} style={{ height: \"100px\", background: \"lightblue\" }}>\n",
    "        Je suis une boîte !\n",
    "      </div>\n",
    "      <p>Ma hauteur est de {taille}px</p>\n",
    "    </div>\n",
    "  );\n",
    "}\n"
   ]
  },
  {
   "cell_type": "markdown",
   "metadata": {},
   "source": [
    "🎯 Ce que fait useRef ici : Il regarde la boîte sans la modifier et permet d'en mesurer la hauteur.\n"
   ]
  },
  {
   "cell_type": "markdown",
   "metadata": {},
   "source": [
    "Résumé super simple\n",
    "✅ useState : Change une valeur et met à jour l’écran. (C’est comme un tableau blanc.)\n",
    "✅ useRef : Garde une valeur sans changer l’écran. (C’est comme un post-it secret.)\n",
    "✅ useRef peut aussi être utilisé pour interagir avec des éléments (ex : un champ de texte ou une boîte)."
   ]
  }
 ],
 "metadata": {
  "language_info": {
   "name": "python"
  }
 },
 "nbformat": 4,
 "nbformat_minor": 2
}
